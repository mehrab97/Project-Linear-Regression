{
 "cells": [
  {
   "cell_type": "markdown",
   "metadata": {},
   "source": [
    "#### Diabetes dataset is one of the datasets available in sklearn. The diabetes dataset consists of 10 physiological variables (age, sex, weight, blood pressure) measure on 442 patients, and an indication of disease progression after one year.\n",
    "#### You are given a Training dataset csv file with X train and Y train data. As studied in lecture, your task is to come up with Linear Regression training algorithm and thus predictions for the test dataset given.\n",
    "Read Instructions carefully -\n",
    "1. Use Linear Regression(in scikit learn) as a training algorithm and submit results predicted by that.\n",
    "2. Files are in csv format, use genfromtxt function in numpy to load data from csv file. Similarly you can use savetxt function to save data into a file.\n",
    "3. Submit a csv file with only predictions for X test data. File should not have any headers and should only have one column i.e. predictions.  Also prediction values in file should be upto **5** decimal places.\n",
    "4. Upon submission of predictions, the score you will get is based on coefficient of determination."
   ]
  },
  {
   "cell_type": "code",
   "execution_count": 74,
   "metadata": {},
   "outputs": [],
   "source": [
    "import numpy as np\n",
    "train_data=np.loadtxt(\"/Users/shabeggill/Downloads/0000000000002329_training_diabetes_x_y_train.csv\",delimiter=\",\")\n",
    "test_data=np.loadtxt(\"/Users/shabeggill/Downloads/0000000000002329_test_diabetes_x_test.csv\",delimiter=\",\")\n",
    "x_train=train_data[:,0:10] #all the rows, first ten columns (features)\n",
    "y_train=train_data[:,10] #all the rows, last column (output)\n",
    "x_test=test_data"
   ]
  },
  {
   "cell_type": "code",
   "execution_count": 75,
   "metadata": {},
   "outputs": [
    {
     "name": "stdout",
     "output_type": "stream",
     "text": [
      "(331, 10)\n",
      "(331,)\n"
     ]
    }
   ],
   "source": [
    "print(x_train.shape)\n",
    "print(y_train.shape)"
   ]
  },
  {
   "cell_type": "code",
   "execution_count": 76,
   "metadata": {},
   "outputs": [
    {
     "data": {
      "text/plain": [
       "LinearRegression()"
      ]
     },
     "execution_count": 76,
     "metadata": {},
     "output_type": "execute_result"
    }
   ],
   "source": [
    "from sklearn.linear_model import LinearRegression\n",
    "alg1=LinearRegression()\n",
    "alg1.fit(x_train,y_train)\n"
   ]
  },
  {
   "cell_type": "code",
   "execution_count": 77,
   "metadata": {},
   "outputs": [
    {
     "data": {
      "text/plain": [
       "array([  21.73408096, -256.66866675,  569.60940087,  303.63233545,\n",
       "       -833.11088526,  525.74313633,  136.07129167,  140.89458927,\n",
       "        731.44498492,   53.32119133])"
      ]
     },
     "execution_count": 77,
     "metadata": {},
     "output_type": "execute_result"
    }
   ],
   "source": [
    "m=alg1.coef_\n",
    "m\n",
    "\n",
    "# equation is of the form m1x1 +m2x2 + m3x3..."
   ]
  },
  {
   "cell_type": "code",
   "execution_count": 78,
   "metadata": {},
   "outputs": [
    {
     "data": {
      "text/plain": [
       "150.702574894566"
      ]
     },
     "execution_count": 78,
     "metadata": {},
     "output_type": "execute_result"
    }
   ],
   "source": [
    "c=alg1.intercept_\n",
    "c"
   ]
  },
  {
   "cell_type": "code",
   "execution_count": 79,
   "metadata": {},
   "outputs": [
    {
     "data": {
      "text/plain": [
       "array([105.52974799, 105.8039198 , 178.60857225,  79.3828781 ,\n",
       "        52.95868706,  98.87263854, 150.71755448,  34.86515216,\n",
       "       113.13535727, 161.50184038, 135.8615611 ,  94.71592222,\n",
       "       138.48094422, 141.37441723, 158.76862662, 171.65288616,\n",
       "       106.44835654, 103.92659639,  95.38693889, 167.40118092,\n",
       "       166.53426278, 101.53464712, 252.45035972, 147.02258547,\n",
       "       214.78906632, 161.27557106, 210.61315228,  71.78091585,\n",
       "       189.65032431, 206.6134259 , 219.98643455, 168.80192534,\n",
       "       116.84846127, 178.74399639,  77.03247418,  59.54633214,\n",
       "       111.5673781 , 156.95186739, 154.59591259, 198.94457493,\n",
       "       115.53884017, 153.46699024,  84.96179518, 113.70337192,\n",
       "       142.14155617, 147.31040378,  82.78072358,  77.89237327,\n",
       "       128.99006192, 261.58712282, 213.31187775, 243.98791257,\n",
       "       167.68132094, 183.69712124, 166.85926884, 202.11440188,\n",
       "       220.39235543, 172.40288024, 176.60897931, 109.04656567,\n",
       "       276.37789836,  90.99941821, 289.37221147, 119.56253351,\n",
       "        75.45687948, 180.78598759, 146.62093081, 156.42382465,\n",
       "        41.079036  , 247.90645166, 207.99121432,  90.09641075,\n",
       "       222.24169638, 189.86378006, 182.2695376 , 164.39881376,\n",
       "       190.27066587, 105.4486795 , 199.86136394, 245.796388  ,\n",
       "       123.20281334, 119.41031908, 145.86620411, 206.19247291,\n",
       "       150.86282453, 142.23221646, 154.56874616, 115.29233396,\n",
       "       134.07810123, 118.42225404, 203.5767555 , 170.66483797,\n",
       "       127.409797  ,  57.13507634, 231.92226503, 185.20713654,\n",
       "       187.37494558,  83.55920849, 185.42585685, 217.34035639,\n",
       "       108.86715354,  80.98714568, 127.05524123, 242.00738792,\n",
       "       155.9723414 , 125.67575276, 246.41235643, 234.963933  ,\n",
       "       191.51298252, 168.33254477, 163.02965178])"
      ]
     },
     "execution_count": 79,
     "metadata": {},
     "output_type": "execute_result"
    }
   ],
   "source": [
    "Y_pred=alg1.predict(x_test)\n",
    "Y_pred"
   ]
  },
  {
   "cell_type": "code",
   "execution_count": 80,
   "metadata": {},
   "outputs": [
    {
     "data": {
      "text/plain": [
       "0.4957208055805604"
      ]
     },
     "execution_count": 80,
     "metadata": {},
     "output_type": "execute_result"
    }
   ],
   "source": [
    "#calculating score for training data\n",
    "alg1.score(x_train,y_train)"
   ]
  },
  {
   "cell_type": "code",
   "execution_count": 81,
   "metadata": {},
   "outputs": [
    {
     "data": {
      "text/plain": [
       "[105.52975,\n",
       " 105.80392,\n",
       " 178.60857,\n",
       " 79.38288,\n",
       " 52.95869,\n",
       " 98.87264,\n",
       " 150.71755,\n",
       " 34.86515,\n",
       " 113.13536,\n",
       " 161.50184,\n",
       " 135.86156,\n",
       " 94.71592,\n",
       " 138.48094,\n",
       " 141.37442,\n",
       " 158.76863,\n",
       " 171.65289,\n",
       " 106.44836,\n",
       " 103.9266,\n",
       " 95.38694,\n",
       " 167.40118,\n",
       " 166.53426,\n",
       " 101.53465,\n",
       " 252.45036,\n",
       " 147.02259,\n",
       " 214.78907,\n",
       " 161.27557,\n",
       " 210.61315,\n",
       " 71.78092,\n",
       " 189.65032,\n",
       " 206.61343,\n",
       " 219.98643,\n",
       " 168.80193,\n",
       " 116.84846,\n",
       " 178.744,\n",
       " 77.03247,\n",
       " 59.54633,\n",
       " 111.56738,\n",
       " 156.95187,\n",
       " 154.59591,\n",
       " 198.94457,\n",
       " 115.53884,\n",
       " 153.46699,\n",
       " 84.9618,\n",
       " 113.70337,\n",
       " 142.14156,\n",
       " 147.3104,\n",
       " 82.78072,\n",
       " 77.89237,\n",
       " 128.99006,\n",
       " 261.58712,\n",
       " 213.31188,\n",
       " 243.98791,\n",
       " 167.68132,\n",
       " 183.69712,\n",
       " 166.85927,\n",
       " 202.1144,\n",
       " 220.39236,\n",
       " 172.40288,\n",
       " 176.60898,\n",
       " 109.04657,\n",
       " 276.3779,\n",
       " 90.99942,\n",
       " 289.37221,\n",
       " 119.56253,\n",
       " 75.45688,\n",
       " 180.78599,\n",
       " 146.62093,\n",
       " 156.42382,\n",
       " 41.07904,\n",
       " 247.90645,\n",
       " 207.99121,\n",
       " 90.09641,\n",
       " 222.2417,\n",
       " 189.86378,\n",
       " 182.26954,\n",
       " 164.39881,\n",
       " 190.27067,\n",
       " 105.44868,\n",
       " 199.86136,\n",
       " 245.79639,\n",
       " 123.20281,\n",
       " 119.41032,\n",
       " 145.8662,\n",
       " 206.19247,\n",
       " 150.86282,\n",
       " 142.23222,\n",
       " 154.56875,\n",
       " 115.29233,\n",
       " 134.0781,\n",
       " 118.42225,\n",
       " 203.57676,\n",
       " 170.66484,\n",
       " 127.4098,\n",
       " 57.13508,\n",
       " 231.92227,\n",
       " 185.20714,\n",
       " 187.37495,\n",
       " 83.55921,\n",
       " 185.42586,\n",
       " 217.34036,\n",
       " 108.86715,\n",
       " 80.98715,\n",
       " 127.05524,\n",
       " 242.00739,\n",
       " 155.97234,\n",
       " 125.67575,\n",
       " 246.41236,\n",
       " 234.96393,\n",
       " 191.51298,\n",
       " 168.33254,\n",
       " 163.02965]"
      ]
     },
     "execution_count": 81,
     "metadata": {},
     "output_type": "execute_result"
    }
   ],
   "source": [
    "Y_pred_rounded=[]\n",
    "for i in Y_pred:\n",
    "    Y_pred_rounded.append(float(format(i,'.5f')))\n",
    "Y_pred_rounded"
   ]
  },
  {
   "cell_type": "code",
   "execution_count": 82,
   "metadata": {},
   "outputs": [],
   "source": [
    "#Saving the predicted values in a csv\n",
    "np.savetxt('PredictionsForXtestData.csv',Y_pred_rounded,delimiter=',')"
   ]
  },
  {
   "cell_type": "code",
   "execution_count": 83,
   "metadata": {},
   "outputs": [
    {
     "data": {
      "text/html": [
       "<div>\n",
       "<style scoped>\n",
       "    .dataframe tbody tr th:only-of-type {\n",
       "        vertical-align: middle;\n",
       "    }\n",
       "\n",
       "    .dataframe tbody tr th {\n",
       "        vertical-align: top;\n",
       "    }\n",
       "\n",
       "    .dataframe thead th {\n",
       "        text-align: right;\n",
       "    }\n",
       "</style>\n",
       "<table border=\"1\" class=\"dataframe\">\n",
       "  <thead>\n",
       "    <tr style=\"text-align: right;\">\n",
       "      <th></th>\n",
       "      <th>0</th>\n",
       "    </tr>\n",
       "  </thead>\n",
       "  <tbody>\n",
       "    <tr>\n",
       "      <th>0</th>\n",
       "      <td>105.52975</td>\n",
       "    </tr>\n",
       "    <tr>\n",
       "      <th>1</th>\n",
       "      <td>105.80392</td>\n",
       "    </tr>\n",
       "    <tr>\n",
       "      <th>2</th>\n",
       "      <td>178.60857</td>\n",
       "    </tr>\n",
       "    <tr>\n",
       "      <th>3</th>\n",
       "      <td>79.38288</td>\n",
       "    </tr>\n",
       "    <tr>\n",
       "      <th>4</th>\n",
       "      <td>52.95869</td>\n",
       "    </tr>\n",
       "    <tr>\n",
       "      <th>...</th>\n",
       "      <td>...</td>\n",
       "    </tr>\n",
       "    <tr>\n",
       "      <th>106</th>\n",
       "      <td>246.41236</td>\n",
       "    </tr>\n",
       "    <tr>\n",
       "      <th>107</th>\n",
       "      <td>234.96393</td>\n",
       "    </tr>\n",
       "    <tr>\n",
       "      <th>108</th>\n",
       "      <td>191.51298</td>\n",
       "    </tr>\n",
       "    <tr>\n",
       "      <th>109</th>\n",
       "      <td>168.33254</td>\n",
       "    </tr>\n",
       "    <tr>\n",
       "      <th>110</th>\n",
       "      <td>163.02965</td>\n",
       "    </tr>\n",
       "  </tbody>\n",
       "</table>\n",
       "<p>111 rows × 1 columns</p>\n",
       "</div>"
      ],
      "text/plain": [
       "             0\n",
       "0    105.52975\n",
       "1    105.80392\n",
       "2    178.60857\n",
       "3     79.38288\n",
       "4     52.95869\n",
       "..         ...\n",
       "106  246.41236\n",
       "107  234.96393\n",
       "108  191.51298\n",
       "109  168.33254\n",
       "110  163.02965\n",
       "\n",
       "[111 rows x 1 columns]"
      ]
     },
     "execution_count": 83,
     "metadata": {},
     "output_type": "execute_result"
    }
   ],
   "source": [
    "#Reading the above created csv to see the contents\n",
    "import pandas as pd\n",
    "df=pd.read_csv(\"PredictionsForXtestData.csv\",header=None)\n",
    "df"
   ]
  },
  {
   "cell_type": "code",
   "execution_count": null,
   "metadata": {},
   "outputs": [],
   "source": []
  }
 ],
 "metadata": {
  "kernelspec": {
   "display_name": "Python 3",
   "language": "python",
   "name": "python3"
  },
  "language_info": {
   "codemirror_mode": {
    "name": "ipython",
    "version": 3
   },
   "file_extension": ".py",
   "mimetype": "text/x-python",
   "name": "python",
   "nbconvert_exporter": "python",
   "pygments_lexer": "ipython3",
   "version": "3.7.3"
  }
 },
 "nbformat": 4,
 "nbformat_minor": 4
}
